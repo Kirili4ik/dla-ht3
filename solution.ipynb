{
 "cells": [
  {
   "cell_type": "markdown",
   "metadata": {},
   "source": [
    "# Homework №3"
   ]
  },
  {
   "cell_type": "markdown",
   "metadata": {},
   "source": [
    "This homework will be dedicated to Keyword Spotting (KWS), streaming and speedup NN."
   ]
  },
  {
   "cell_type": "markdown",
   "metadata": {},
   "source": [
    "# Data"
   ]
  },
  {
   "cell_type": "code",
   "execution_count": 1,
   "metadata": {},
   "outputs": [
    {
     "name": "stdout",
     "output_type": "stream",
     "text": [
      "Classes: bed, bird, cat, dog, down, eight, five, four, go, happy, house, left, marvin, nine, no, off, on, one, right, seven, sheila, six, stop, three, tree, two, up, wow, yes, zero\n"
     ]
    }
   ],
   "source": [
    "import os\n",
    "datadir = \"speech_commands\"\n",
    "\n",
    "#!wget http://download.tensorflow.org/data/speech_commands_v0.01.tar.gz -O speech_commands_v0.01.tar.gz\n",
    "# alternative url: https://www.dropbox.com/s/j95n278g48bcbta/speech_commands_v0.01.tar.gz?dl=1\n",
    "#!mkdir {datadir} && tar -C {datadir} -xvzf speech_commands_v0.01.tar.gz 1> log\n",
    "\n",
    "samples_by_target = {\n",
    "    cls: [os.path.join(datadir, cls, name) for name in os.listdir(\"./speech_commands/{}\".format(cls))]\n",
    "    for cls in os.listdir(datadir)\n",
    "    if os.path.isdir(os.path.join(datadir, cls))\n",
    "}\n",
    "print('Classes:', ', '.join(sorted(samples_by_target.keys())[1:]))"
   ]
  },
  {
   "cell_type": "code",
   "execution_count": 2,
   "metadata": {},
   "outputs": [],
   "source": [
    "import pandas as pd\n",
    "from tqdm import tqdm\n",
    "\n",
    "import torchaudio\n",
    "from IPython import display as display_"
   ]
  },
  {
   "cell_type": "code",
   "execution_count": 3,
   "metadata": {},
   "outputs": [],
   "source": [
    "#labels = pd.DataFrame(columns=['name', 'word', 'label'])\n",
    "#for el in tqdm(samples_by_target.keys()):\n",
    "#    if el != '_background_noise_':\n",
    "#        for name in samples_by_target[el]:\n",
    "#            word = name.split('/')[1]\n",
    "#            if word == 'sheila':\n",
    "#                label = 1\n",
    "#            else:\n",
    "#                label = 0\n",
    "#            labels = labels.append({'name':name, 'word':word, 'label':label}, ignore_index=True)"
   ]
  },
  {
   "cell_type": "code",
   "execution_count": 4,
   "metadata": {},
   "outputs": [],
   "source": [
    "#labels.to_csv('labels.csv', index=False)"
   ]
  },
  {
   "cell_type": "markdown",
   "metadata": {},
   "source": [
    "БЭКГРАУНД ЗВУКИ В АУГМЕНТАЦИЮ"
   ]
  },
  {
   "cell_type": "code",
   "execution_count": 5,
   "metadata": {},
   "outputs": [],
   "source": [
    "#background_noises = pd.DataFrame(columns=['name'])\n",
    "\n",
    "#for el in tqdm(samples_by_target.keys()):\n",
    "#    if el == '_background_noise_':\n",
    "#        for name in samples_by_target[el]:\n",
    "#            if 'README' not in name:\n",
    "#                background_noises = background_noises.append(\n",
    "#                    {'name':name}, ignore_index=True\n",
    "#                )"
   ]
  },
  {
   "cell_type": "code",
   "execution_count": 6,
   "metadata": {},
   "outputs": [],
   "source": [
    "#background_noises.to_csv('background_noises.csv', index=False)\n",
    "\n",
    "#background_noises = background_noises['name'].values"
   ]
  },
  {
   "cell_type": "markdown",
   "metadata": {},
   "source": [
    "    Choose from 1 to 3 keywords to your liking, and use the rest as negative examples.\n",
    "    We recommend to use sheila and/or marvin."
   ]
  },
  {
   "cell_type": "code",
   "execution_count": 7,
   "metadata": {},
   "outputs": [],
   "source": [
    "def add_rand_noise(audio):\n",
    "    background_noises = [\n",
    "        'speech_commands/_background_noise_/white_noise.wav',\n",
    "       'speech_commands/_background_noise_/dude_miaowing.wav',\n",
    "       'speech_commands/_background_noise_/doing_the_dishes.wav',\n",
    "       'speech_commands/_background_noise_/exercise_bike.wav',\n",
    "       'speech_commands/_background_noise_/pink_noise.wav',\n",
    "       'speech_commands/_background_noise_/running_tap.wav'\n",
    "    ]\n",
    "    \n",
    "    noise_num = torch.randint(low=0, high=len(background_noises), size=(1,)).item()    \n",
    "    noise = torchaudio.load(background_noises[noise_num])[0].squeeze()    \n",
    "    \n",
    "    noize_level = torch.Tensor([1])  # [0, 40]\n",
    "\n",
    "    noize_energy = torch.norm(noise)\n",
    "    audio_energy = torch.norm(audio)\n",
    "\n",
    "    alpha = (audio_energy / noize_energy) * torch.pow(10, -noize_level / 20)\n",
    "\n",
    "    start = torch.randint(low=0, high=int(noise.size(0) - audio.size(0) - 1), size=(1,)).item()\n",
    "    noise_sample = noise[start : start + audio.shape[0]]\n",
    "\n",
    "    audio_new = audio + alpha * noise_sample\n",
    "    audio_new.clamp_(-1, 1)\n",
    "    \n",
    "    return audio_new"
   ]
  },
  {
   "cell_type": "code",
   "execution_count": 8,
   "metadata": {},
   "outputs": [],
   "source": [
    "#import pytorch_lightning as pl"
   ]
  },
  {
   "cell_type": "markdown",
   "metadata": {},
   "source": [
    "# Model"
   ]
  },
  {
   "cell_type": "markdown",
   "metadata": {},
   "source": [
    "    In this homework assignment, you will need to implement a model for finding a keyword in a stream.\n",
    "\n",
    "        1) https://www.dropbox.com/s/22ah2ba7dug6pzw/KWS_Attention.pdf\n",
    "            It is recommended to implement the version with CNN because it is easy and improves the model.\n",
    "\n",
    "        2) What about streaming?\n",
    "           This model works differently during training and inferance.\n",
    "           During training you have some fixed input and you know that it has a keyword (or not).\n",
    "           During the inferance, you read the T frames and make a prediction on them. And the next step is to read the T+1 frame,\n",
    "           run the neural network just for it, and make a prediction based on it and the T-1 of the previous frames.\n",
    "           This way you don't make unnecessary calculations.\n",
    "\n",
    "           So, your model should support streaming mode.\n",
    "           To demonstrate the work in streaming mode, take two random audio tracks of 10-20 seconds and glue them together\n",
    "           so that your keyword will be between them. Run the model through this glued track and draw how the probability of your keyword changing over time.\n",
    "\n",
    "        3) A good KWS is a robust KWS, so we ask you to implement as many augmentations as possible.\n",
    "           (bonus) Download any noise from YouTube and add it as a background noise to the positive data. This helps a lot in real life.\n",
    "           P.S. Use https://www.youtube-dl.org/\n",
    "\n",
    "        4) (bonus) Add more attentions and orthogonality regularization. https://arxiv.org/abs/1910.04500\n",
    "        \n",
    "        5) (bonus) Speedup you model! Implement distillation of your model, for example,\n",
    "            train the LSTM with 256 hidden size and distil it into LSTM with 128 hidden size."
   ]
  },
  {
   "cell_type": "markdown",
   "metadata": {},
   "source": [
    "# Code"
   ]
  },
  {
   "cell_type": "markdown",
   "metadata": {},
   "source": [
    "    1) In this homework you are allowed to use pytorch-lighting.\n",
    "\n",
    "    2) Try to write code more structurally and cleanly!\n",
    "    \n",
    "    3) Good logging of experiments save your nerves and time, so we ask you to use W&B. Log loss, FA/FR rate or something else.\n",
    "        Do not remove the logs until we have checked your work and given you a grade!\n",
    "    \n",
    "    4) (Bonus) We also ask you to organize your code in github repo with Docker and setup.py. You can use my template https://github.com/markovka17/dl-start-pack.\n",
    "    \n",
    "    5) Your work must be reproducable, so fix seed, save the weights of model, and etc.\n",
    "    \n",
    "    6) In the end of your work write inference utils. Anyone should be able to take your weight, load it into the model and run it on some audio track."
   ]
  },
  {
   "cell_type": "markdown",
   "metadata": {},
   "source": [
    "### Импорты"
   ]
  },
  {
   "cell_type": "code",
   "execution_count": 9,
   "metadata": {},
   "outputs": [],
   "source": [
    "import wandb"
   ]
  },
  {
   "cell_type": "code",
   "execution_count": 10,
   "metadata": {},
   "outputs": [],
   "source": [
    "import torch\n",
    "import random\n",
    "import numpy as np\n",
    "\n",
    "import matplotlib.pyplot as plt\n",
    "\n",
    "from torch.utils.data import DataLoader\n",
    "from torch import distributions\n"
   ]
  },
  {
   "cell_type": "code",
   "execution_count": 11,
   "metadata": {},
   "outputs": [],
   "source": [
    "BATCH_SIZE = 10\n",
    "NUM_EPOCHS = 10\n",
    "N_MELS     = 40"
   ]
  },
  {
   "cell_type": "markdown",
   "metadata": {},
   "source": [
    "### Датасеты"
   ]
  },
  {
   "cell_type": "code",
   "execution_count": 12,
   "metadata": {},
   "outputs": [],
   "source": [
    "class TrainDataset(torch.utils.data.Dataset):\n",
    "    \"\"\"Custom competition dataset.\"\"\"\n",
    "\n",
    "    def __init__(self, root='', csv_path='labels.csv', kw='sheila', transform=None):\n",
    "        \"\"\"\n",
    "        Args:\n",
    "            csv_file (string): Path to the csv file with annotations.\n",
    "            root_dir (string): Directory with all the images.\n",
    "            transform (callable, optional): Optional transform to be applied on a sample.\n",
    "        \"\"\"\n",
    "        self.root = root\n",
    "        self.kw = kw\n",
    "        self.csv = pd.read_csv(csv_path)\n",
    "        self.transform = transform\n",
    "        \n",
    "\n",
    "    def __len__(self):\n",
    "        return self.csv.shape[0]\n",
    "    \n",
    "\n",
    "    def __getitem__(self, idx):\n",
    "        utt_name = self.root + self.csv.loc[idx, 'name']\n",
    "        utt = torchaudio.load(utt_name)[0].squeeze()\n",
    "        word = self.csv.loc[idx, 'word']\n",
    "        label = self.csv.loc[idx, 'label']\n",
    "        \n",
    "        if self.transform:\n",
    "            utt = self.transform(utt)\n",
    "\n",
    "        sample = {'utt': utt, 'word': word, 'label': label}\n",
    "        return sample"
   ]
  },
  {
   "cell_type": "markdown",
   "metadata": {},
   "source": [
    "#### Аугментации и визуализация"
   ]
  },
  {
   "cell_type": "code",
   "execution_count": 13,
   "metadata": {},
   "outputs": [],
   "source": [
    "def transform_tr(wav):\n",
    "    aug_num = torch.randint(low=0, high=4, size=(1,)).item()\n",
    "    augs = [\n",
    "        lambda x: x,\n",
    "        lambda x: (x + distributions.Normal(0, 0.01).sample(x.size())).clamp_(-1, 1),\n",
    "        lambda x: torchaudio.transforms.Vol(.25)(x),\n",
    "        lambda x: add_rand_noise(x)\n",
    "    ]\n",
    "    \n",
    "    return augs[aug_num](wav)"
   ]
  },
  {
   "cell_type": "code",
   "execution_count": 14,
   "metadata": {},
   "outputs": [],
   "source": [
    "def viz(wav, label):\n",
    "    print(label)\n",
    "    display_.display(display_.Audio(wav, rate=16000, normalize=False))"
   ]
  },
  {
   "cell_type": "markdown",
   "metadata": {},
   "source": [
    "### Collate_fn и Mel'ы и датасеты\n"
   ]
  },
  {
   "cell_type": "markdown",
   "metadata": {},
   "source": [
    "WeightedRandomSampler"
   ]
  },
  {
   "cell_type": "code",
   "execution_count": 15,
   "metadata": {},
   "outputs": [],
   "source": [
    "from torch.utils.data import WeightedRandomSampler\n",
    "from torch.nn.utils.rnn import pad_sequence"
   ]
  },
  {
   "cell_type": "markdown",
   "metadata": {},
   "source": [
    "Из-за этого ауги накладываются на валидацию тоже:"
   ]
  },
  {
   "cell_type": "code",
   "execution_count": 16,
   "metadata": {},
   "outputs": [
    {
     "name": "stdout",
     "output_type": "stream",
     "text": [
      "all train+val samples: 64721\n"
     ]
    }
   ],
   "source": [
    "my_dataset = TrainDataset(csv_path='labels.csv', transform=transform_tr)\n",
    "print('all train+val samples:', len(my_dataset))"
   ]
  },
  {
   "cell_type": "code",
   "execution_count": 17,
   "metadata": {},
   "outputs": [],
   "source": [
    "ind = np.random.randint(0, 64721, 120)\n",
    "my_dataset = torch.utils.data.Subset(my_dataset, ind)\n",
    "\n",
    "#train_len = 57500\n",
    "#val_len = 64721 - train_len \n",
    "train_len = 100\n",
    "val_len = 20\n",
    "train_set, val_set = torch.utils.data.random_split(my_dataset, [train_len, val_len])"
   ]
  },
  {
   "cell_type": "code",
   "execution_count": 18,
   "metadata": {},
   "outputs": [],
   "source": [
    "def get_sampler(target):\n",
    "    \n",
    "    class_sample_count = np.array(\n",
    "        [len(np.where(target == t)[0]) for t in np.unique(target)])\n",
    "    weight = 1. / class_sample_count\n",
    "    samples_weight = np.array([weight[t] for t in target])\n",
    "\n",
    "    samples_weight = torch.from_numpy(samples_weight)\n",
    "    samples_weigth = samples_weight.double()\n",
    "    sampler = WeightedRandomSampler(samples_weight, len(samples_weight))\n",
    "    \n",
    "    return sampler"
   ]
  },
  {
   "cell_type": "code",
   "execution_count": 19,
   "metadata": {},
   "outputs": [],
   "source": [
    "# big\n",
    "#train_sampler = get_sampler(train_set.dataset.csv['label'][train_set.indices].values)\n",
    "#val_sampler   = get_sampler(val_set.dataset.csv['label'][val_set.indices].values)\n",
    "\n",
    "\n",
    "train_sampler = get_sampler(train_set.dataset.dataset.csv['label'][train_set.indices].values)\n",
    "\n",
    "val_sampler   = get_sampler(val_set.dataset.dataset.csv['label'][val_set.indices].values)"
   ]
  },
  {
   "cell_type": "code",
   "execution_count": 20,
   "metadata": {},
   "outputs": [],
   "source": [
    "def preprocess_data(data):\n",
    "    wavs = []\n",
    "    labels = []    \n",
    "        \n",
    "    for el in data:\n",
    "        wavs.append(el['utt'])\n",
    "        labels.append(el['label'])\n",
    "\n",
    "    wavs = pad_sequence(wavs, batch_first=True)\n",
    "    labels = torch.Tensor(labels).type(torch.long)\n",
    "    \n",
    "    return wavs, labels"
   ]
  },
  {
   "cell_type": "markdown",
   "metadata": {},
   "source": [
    "###  Loading data and loaders"
   ]
  },
  {
   "cell_type": "code",
   "execution_count": 21,
   "metadata": {},
   "outputs": [],
   "source": [
    "train_loader = DataLoader(train_set, batch_size=BATCH_SIZE,\n",
    "                          shuffle=False, collate_fn=preprocess_data, \n",
    "                          sampler=train_sampler, drop_last=False,\n",
    "                          num_workers=0, pin_memory=False)\n",
    "\n",
    "val_loader = DataLoader(val_set, batch_size=BATCH_SIZE,\n",
    "                        shuffle=False, collate_fn=preprocess_data, \n",
    "                        sampler=val_sampler, drop_last=False,\n",
    "                        num_workers=0, pin_memory=False)"
   ]
  },
  {
   "cell_type": "markdown",
   "metadata": {},
   "source": [
    "### Вспомогательные функции"
   ]
  },
  {
   "cell_type": "code",
   "execution_count": 22,
   "metadata": {},
   "outputs": [],
   "source": [
    "import torch.nn as nn\n",
    "import torch.nn.functional as F"
   ]
  },
  {
   "cell_type": "code",
   "execution_count": 23,
   "metadata": {},
   "outputs": [],
   "source": [
    "def set_seed(seed):\n",
    "    torch.backends.cudnn.deterministic = True\n",
    "    torch.manual_seed(seed)\n",
    "    torch.cuda.manual_seed(seed)\n",
    "    random.seed(seed)\n",
    "    np.random.seed(seed)\n",
    "set_seed(21)"
   ]
  },
  {
   "cell_type": "code",
   "execution_count": 24,
   "metadata": {},
   "outputs": [],
   "source": [
    "def count_parameters(model):\n",
    "    model_parameters = filter(lambda p: p.requires_grad, model.parameters())\n",
    "    return sum([np.prod(p.size()) for p in model_parameters])"
   ]
  },
  {
   "cell_type": "code",
   "execution_count": 25,
   "metadata": {},
   "outputs": [
    {
     "data": {
      "text/plain": [
       "device(type='cpu')"
      ]
     },
     "execution_count": 25,
     "metadata": {},
     "output_type": "execute_result"
    }
   ],
   "source": [
    "device = torch.device('cuda' if torch.cuda.is_available() else 'cpu')\n",
    "device"
   ]
  },
  {
   "cell_type": "code",
   "execution_count": 26,
   "metadata": {},
   "outputs": [],
   "source": [
    "# with augmentations\n",
    "\n",
    "#n_fft=1024, hop_length=256,\n",
    "melspec_train = nn.Sequential(\n",
    "    torchaudio.transforms.MelSpectrogram(sample_rate=16000,  n_mels=N_MELS),\n",
    "    torchaudio.transforms.FrequencyMasking(freq_mask_param=15),\n",
    "    torchaudio.transforms.TimeMasking(time_mask_param=35),\n",
    ").to(device)\n",
    "\n",
    "\n",
    "# no augmentations\n",
    "melspec_val = torchaudio.transforms.MelSpectrogram(\n",
    "    sample_rate=16000,           ### 22050, 48000\n",
    "    # n_fft=1024,\n",
    "    # hop_length=256,\n",
    "    n_mels=N_MELS\n",
    ").to(device)"
   ]
  },
  {
   "cell_type": "markdown",
   "metadata": {},
   "source": [
    "### MODEL"
   ]
  },
  {
   "cell_type": "markdown",
   "metadata": {},
   "source": [
    "Есть спека размером длина аудио?\n",
    "\n",
    "-> (BS, 40, 41), где 40 - это высота (n_mels), а 41 - 30 прошлое, 1 сейчас и 10 будущее "
   ]
  },
  {
   "cell_type": "markdown",
   "metadata": {},
   "source": [
    "**Из статьи CRNN:**\n",
    "\n",
    "Работали с 40 x 151.\n",
    "\n",
    "BS = 64\n",
    "\n",
    "LR = 0.001 -> 0.0003\n",
    "\n",
    "**Как вариант можно взять:**\n",
    "\n",
    "out_channels = 16\n",
    "\n",
    "GRU num_layers = 1"
   ]
  },
  {
   "cell_type": "markdown",
   "metadata": {},
   "source": [
    "### WTF"
   ]
  },
  {
   "cell_type": "markdown",
   "metadata": {},
   "source": [
    " Accordingly, in the atten-\n",
    "tion models, the input window has set to 189 frames to cover\n",
    "the length of the wake-up word.\n",
    "\n",
    "At runtime, the sliding window was set to 100\n",
    "frames and frame shift was set to 1."
   ]
  },
  {
   "cell_type": "code",
   "execution_count": 27,
   "metadata": {},
   "outputs": [],
   "source": [
    "def sepconv(in_size, out_size, kernel_size, stride=1, dilation=1, padding=0):\n",
    "    #if padding is None:\n",
    "    #    padding = (kernel_size-1)//2\n",
    "    return nn.Sequential(\n",
    "        torch.nn.Conv1d(in_size, in_size, kernel_size[1], \n",
    "                        stride=stride[1], dilation=dilation, groups=in_size,\n",
    "                        padding=padding),\n",
    "        \n",
    "        torch.nn.Conv1d(in_size, out_size, kernel_size=1, \n",
    "                        stride=stride[0], groups=int(in_size/kernel_size[0])),\n",
    "    )"
   ]
  },
  {
   "cell_type": "code",
   "execution_count": 28,
   "metadata": {},
   "outputs": [],
   "source": [
    "class CRNN(nn.Module):\n",
    "    def __init__(self):\n",
    "        super(CRNN, self).__init__()\n",
    "          \n",
    "        self.sepconv = sepconv(in_size=40, out_size=64, kernel_size=(20, 5), stride=(8, 2))\n",
    "        self.gru = nn.GRU(input_size=64, hidden_size=128, num_layers=1, dropout=0.1, bidirectional=True)\n",
    "        #self.linear = nn.Linear(in_features=128, out_features=64)   # HS * num_directions\n",
    "        \n",
    "        \n",
    "        self.init_weights()\n",
    "        \n",
    "\n",
    "    def init_weights(self):\n",
    "        pass\n",
    "\n",
    "    \n",
    "    def forward(self, x, hidden):\n",
    "        x = self.sepconv(x)\n",
    "        \n",
    "        # (BS, HS, ?) -> (HS, BS, ?) ->(seq_len, BS, HS)\n",
    "        x = x.transpose(0, 1).transpose(0, 2)\n",
    "        \n",
    "        x, hidden = self.gru(x, hidden)\n",
    "        # x : (seq_len, BS, HS * num_dirs)\n",
    "        # hidden : (num_layers * num_dirs, BS, HS)\n",
    "                \n",
    "        #x = self.linear(x)\n",
    "                        \n",
    "        return F.softmax(x, dim=-1), hidden ###   #  DIM ?? ? ? ?"
   ]
  },
  {
   "cell_type": "code",
   "execution_count": 29,
   "metadata": {},
   "outputs": [],
   "source": [
    "class AttnMech(nn.Module):\n",
    "    def __init__(self):\n",
    "        super(AttnMech, self).__init__()\n",
    "        \n",
    "        self.Wx_b = nn.Linear(256, 256)   #   ???\n",
    "        self.Vt   = nn.Linear(256, 1, bias=False)\n",
    "        \n",
    "        \n",
    "    def init_weights(self):\n",
    "        pass\n",
    "    \n",
    "    \n",
    "    def forward(self, x):\n",
    "        \n",
    "        x = torch.tanh(self.Wx_b(x))\n",
    "        e = self.Vt(x)\n",
    "\n",
    "        return e"
   ]
  },
  {
   "cell_type": "code",
   "execution_count": 30,
   "metadata": {},
   "outputs": [],
   "source": [
    "class LastLayer(nn.Module):\n",
    "    def __init__(self):\n",
    "        super(LastLayer, self).__init__()\n",
    "        \n",
    "        self.U = nn.Linear(256, 2, bias=False)     # ???\n",
    "        \n",
    "        \n",
    "    def init_weights(self):\n",
    "        pass\n",
    "    \n",
    "    \n",
    "    def forward(self, e, data):\n",
    "        \n",
    "        data = data.transpose(0, 1)    # (BS, seq_len, hid_size*num_dirs)\n",
    "                             \n",
    "        a = F.softmax(e, dim=-1).unsqueeze(1)                # ???\n",
    "        \n",
    "        c = torch.bmm(a, data).squeeze()\n",
    "        # should be c.size() == GRU_hidden_size\n",
    "        \n",
    "        Uc = self.U(c)\n",
    "        \n",
    "        probs = F.log_softmax(Uc, dim=-1)     # log???\n",
    "        \n",
    "        return probs"
   ]
  },
  {
   "cell_type": "code",
   "execution_count": 31,
   "metadata": {
    "scrolled": true
   },
   "outputs": [
    {
     "name": "stderr",
     "output_type": "stream",
     "text": [
      "/home/kirill/.local/lib/python3.6/site-packages/torch/nn/modules/rnn.py:60: UserWarning: dropout option adds dropout after all but last recurrent layer, so non-zero dropout expects num_layers greater than 1, but got dropout=0.1 and num_layers=1\n",
      "  \"num_layers={}\".format(dropout, num_layers))\n"
     ]
    }
   ],
   "source": [
    "CRNN_model = CRNN()\n",
    "attn_layer = AttnMech()\n",
    "last_layer = LastLayer()\n",
    "# to device"
   ]
  },
  {
   "cell_type": "code",
   "execution_count": 32,
   "metadata": {},
   "outputs": [
    {
     "data": {
      "text/plain": [
       "217136"
      ]
     },
     "execution_count": 32,
     "metadata": {},
     "output_type": "execute_result"
    }
   ],
   "source": [
    "count_parameters(CRNN_model) +count_parameters(attn_layer) + count_parameters(last_layer)"
   ]
  },
  {
   "cell_type": "code",
   "execution_count": 33,
   "metadata": {},
   "outputs": [
    {
     "name": "stderr",
     "output_type": "stream",
     "text": [
      "\u001b[34m\u001b[1mwandb\u001b[0m: Currently logged in as: \u001b[33mkirili4ik\u001b[0m (use `wandb login --relogin` to force relogin)\n",
      "\u001b[34m\u001b[1mwandb\u001b[0m: wandb version 0.10.8 is available!  To upgrade, please run:\n",
      "\u001b[34m\u001b[1mwandb\u001b[0m:  $ pip install wandb --upgrade\n",
      "\u001b[34m\u001b[1mwandb\u001b[0m: Tracking run with wandb version 0.10.2\n",
      "\u001b[34m\u001b[1mwandb\u001b[0m: Run data is saved locally in wandb/run-20201103_161400-3ep3f7u9\n",
      "\u001b[34m\u001b[1mwandb\u001b[0m: Syncing run \u001b[33mmisty-waterfall-4\u001b[0m\n"
     ]
    },
    {
     "data": {
      "text/html": [
       "\n",
       "                Logging results to <a href=\"https://wandb.com\" target=\"_blank\">Weights & Biases</a> <a href=\"https://docs.wandb.com/integrations/jupyter.html\" target=\"_blank\">(Documentation)</a>.<br/>\n",
       "                Project page: <a href=\"https://wandb.ai/kirili4ik/dla-ht3\" target=\"_blank\">https://wandb.ai/kirili4ik/dla-ht3</a><br/>\n",
       "                Run page: <a href=\"https://wandb.ai/kirili4ik/dla-ht3/runs/3ep3f7u9\" target=\"_blank\">https://wandb.ai/kirili4ik/dla-ht3/runs/3ep3f7u9</a><br/>\n",
       "            "
      ],
      "text/plain": [
       "<IPython.core.display.HTML object>"
      ]
     },
     "metadata": {},
     "output_type": "display_data"
    },
    {
     "name": "stdout",
     "output_type": "stream",
     "text": [
      "\n"
     ]
    },
    {
     "data": {
      "text/plain": [
       "[<wandb.wandb_torch.TorchGraph at 0x7f2e3cdfe908>]"
      ]
     },
     "execution_count": 33,
     "metadata": {},
     "output_type": "execute_result"
    }
   ],
   "source": [
    "wandb.init()\n",
    "wandb.watch(CRNN_model)\n",
    "wandb.watch(attn_layer)\n",
    "wandb.watch(last_layer)"
   ]
  },
  {
   "cell_type": "code",
   "execution_count": 34,
   "metadata": {},
   "outputs": [],
   "source": [
    "opt_crnn = torch.optim.Adam(CRNN_model.parameters())\n",
    "opt_attn = torch.optim.Adam(attn_layer.parameters())\n",
    "opt_last = torch.optim.Adam(last_layer.parameters())"
   ]
  },
  {
   "cell_type": "code",
   "execution_count": 35,
   "metadata": {
    "scrolled": true
   },
   "outputs": [
    {
     "name": "stderr",
     "output_type": "stream",
     "text": [
      "10it [00:00, 20.57it/s]\n",
      "10it [00:00, 33.04it/s]\n",
      "10it [00:00, 17.55it/s]\n",
      "10it [00:00, 23.37it/s]\n",
      "10it [00:00, 24.69it/s]\n",
      "10it [00:00, 17.13it/s]\n",
      "10it [00:00, 14.21it/s]\n",
      "10it [00:00, 15.27it/s]\n",
      "10it [00:00, 17.17it/s]\n",
      "10it [00:00, 24.94it/s]\n",
      "10it [00:00, 35.56it/s]\n",
      "10it [00:00, 21.27it/s]\n",
      "10it [00:00, 27.30it/s]\n",
      "10it [00:00, 35.69it/s]\n",
      "10it [00:00, 27.92it/s]\n",
      "10it [00:00, 13.81it/s]\n",
      "10it [00:00, 26.99it/s]\n",
      "10it [00:00, 34.40it/s]\n",
      "10it [00:00, 13.41it/s]\n",
      "10it [00:00, 35.56it/s]\n",
      "10it [00:00, 15.37it/s]\n",
      "10it [00:00, 20.10it/s]\n",
      "10it [00:00, 29.81it/s]\n",
      "10it [00:00, 21.55it/s]\n",
      "10it [00:00, 20.79it/s]\n",
      "10it [00:00, 31.29it/s]\n",
      "10it [00:00, 33.80it/s]\n",
      "10it [00:00, 29.23it/s]\n",
      "10it [00:00, 21.40it/s]\n",
      "10it [00:00, 26.27it/s]\n",
      "10it [00:00, 23.95it/s]\n",
      "10it [00:00, 20.64it/s]\n",
      "10it [00:00, 23.17it/s]\n",
      "10it [00:00, 23.07it/s]\n",
      "10it [00:00, 29.20it/s]\n",
      "10it [00:00, 34.04it/s]\n",
      "10it [00:00, 32.69it/s]\n",
      "10it [00:00, 32.77it/s]\n",
      "10it [00:00, 27.14it/s]\n",
      "10it [00:00, 28.86it/s]\n",
      "10it [00:00, 23.72it/s]\n",
      "10it [00:00, 18.41it/s]\n",
      "10it [00:00, 19.30it/s]\n",
      "10it [00:00, 25.64it/s]\n",
      "10it [00:00, 31.77it/s]\n",
      "10it [00:00, 24.74it/s]\n",
      "10it [00:00, 20.92it/s]\n",
      "10it [00:00, 13.76it/s]\n",
      "10it [00:00, 17.99it/s]\n",
      "10it [00:00, 17.80it/s]\n",
      "10it [00:00, 20.96it/s]\n",
      "10it [00:00, 15.04it/s]\n",
      "10it [00:00, 13.70it/s]\n",
      "10it [00:00, 13.28it/s]\n",
      "10it [00:00, 11.92it/s]\n",
      "10it [00:00, 13.26it/s]\n",
      "10it [00:00, 13.24it/s]\n",
      "10it [00:00, 12.29it/s]\n",
      "10it [00:00, 22.18it/s]\n",
      "10it [00:00, 31.30it/s]\n",
      "10it [00:00, 31.25it/s]\n",
      "10it [00:00, 34.36it/s]\n",
      "10it [00:00, 25.42it/s]\n",
      "10it [00:00, 16.07it/s]\n",
      "10it [00:00, 26.93it/s]\n",
      "10it [00:00, 26.54it/s]\n",
      "10it [00:00, 25.84it/s]\n",
      "10it [00:00, 38.44it/s]\n",
      "10it [00:00, 26.81it/s]\n",
      "10it [00:00, 28.82it/s]\n",
      "10it [00:00, 28.70it/s]\n",
      "10it [00:00, 29.29it/s]\n",
      "10it [00:00, 36.29it/s]\n",
      "10it [00:00, 29.84it/s]\n",
      "10it [00:00, 35.25it/s]\n",
      "10it [00:00, 33.85it/s]\n",
      "10it [00:00, 30.48it/s]\n",
      "10it [00:00, 25.41it/s]\n",
      "10it [00:00, 24.31it/s]\n",
      "10it [00:00, 19.40it/s]\n",
      "10it [00:00, 18.51it/s]\n",
      "10it [00:00, 21.29it/s]\n",
      "10it [00:00, 20.40it/s]\n",
      "10it [00:00, 23.13it/s]\n",
      "10it [00:00, 29.52it/s]\n",
      "10it [00:00, 33.67it/s]\n",
      "10it [00:00, 40.17it/s]\n",
      "10it [00:00, 35.70it/s]\n",
      "10it [00:00, 24.51it/s]\n",
      "10it [00:00, 25.56it/s]\n",
      "10it [00:00, 27.22it/s]\n",
      "10it [00:00, 22.81it/s]\n",
      "10it [00:00, 28.69it/s]\n",
      "10it [00:00, 24.07it/s]\n",
      "10it [00:00, 32.86it/s]\n",
      "10it [00:00, 24.28it/s]\n",
      "10it [00:00, 21.35it/s]\n",
      "10it [00:00, 20.20it/s]\n",
      "10it [00:00, 20.92it/s]\n",
      "10it [00:00, 20.63it/s]\n"
     ]
    }
   ],
   "source": [
    "# 1 epoch\n",
    "NUM_EPOCHS = 20\n",
    "for n in range(NUM_EPOCHS):\n",
    "    for i, el in tqdm(enumerate(train_loader)):\n",
    "\n",
    "        batch = el[0]\n",
    "        labels = el[1]\n",
    "        # to device\n",
    "\n",
    "        batch = torch.log(melspec_train(batch) + 1e-9)   # .batch.narrow(-1, 0, 41)    \n",
    "\n",
    "        opt_crnn.zero_grad()\n",
    "        opt_attn.zero_grad()\n",
    "        opt_last.zero_grad()\n",
    "\n",
    "\n",
    "        hidden = torch.zeros(1*2, batch.size(0), 128)    # (num_layers*num_dirs,  BS, HS)\n",
    "        e = []\n",
    "\n",
    "        #start = 41\n",
    "        #finish = 81\n",
    "        #for i in range(0, finish - start + 1):\n",
    "        #batch_now = batch[:, :, i : start + i]\n",
    "\n",
    "        batch_now = batch \n",
    "\n",
    "        output, hidden = CRNN_model(batch, hidden)\n",
    "        # output: (seq_len, BS, hidden*num_dir)\n",
    "\n",
    "        for el in output:\n",
    "            e_t = attn_layer(el)       # (BS, 1)        # OR HIDDEN ???\n",
    "            e.append(e_t)\n",
    "\n",
    "        e = torch.cat(e, dim=1)   # (BS, seq_len)\n",
    "\n",
    "        probs = last_layer(e, output)\n",
    "\n",
    "        loss = F.nll_loss(probs, labels)\n",
    "        loss.backward()\n",
    "\n",
    "        torch.nn.utils.clip_grad_norm_(CRNN_model.parameters(), 10)\n",
    "        torch.nn.utils.clip_grad_norm_(attn_layer.parameters(), 10)\n",
    "        torch.nn.utils.clip_grad_norm_(last_layer.parameters(), 10)\n",
    "\n",
    "        opt_crnn.step()\n",
    "        opt_attn.step()\n",
    "        opt_last.step()\n",
    "\n",
    "        wandb.log({'loss':loss.item()}) "
   ]
  },
  {
   "cell_type": "code",
   "execution_count": null,
   "metadata": {},
   "outputs": [],
   "source": []
  },
  {
   "cell_type": "code",
   "execution_count": null,
   "metadata": {},
   "outputs": [],
   "source": []
  },
  {
   "cell_type": "code",
   "execution_count": null,
   "metadata": {},
   "outputs": [],
   "source": []
  },
  {
   "cell_type": "code",
   "execution_count": null,
   "metadata": {},
   "outputs": [],
   "source": []
  },
  {
   "cell_type": "code",
   "execution_count": null,
   "metadata": {},
   "outputs": [],
   "source": []
  },
  {
   "cell_type": "markdown",
   "metadata": {},
   "source": [
    "### ИГРЫ"
   ]
  },
  {
   "cell_type": "code",
   "execution_count": 278,
   "metadata": {},
   "outputs": [
    {
     "data": {
      "text/plain": [
       "torch.Size([3, 1, 40, 41])"
      ]
     },
     "execution_count": 278,
     "metadata": {},
     "output_type": "execute_result"
    }
   ],
   "source": [
    "a = torch.rand((3, 40, 41))   # картинка 40 x 41\n",
    "a = a.unsqueeze(1)\n",
    "a.size()"
   ]
  },
  {
   "cell_type": "code",
   "execution_count": 264,
   "metadata": {},
   "outputs": [],
   "source": [
    "kernel_size = (20, 5)\n",
    "stride = (8, 2)\n",
    "\n",
    "in_size = 1\n",
    "out_size = 32"
   ]
  },
  {
   "cell_type": "markdown",
   "metadata": {},
   "source": [
    "#### NORMAL"
   ]
  },
  {
   "cell_type": "code",
   "execution_count": 265,
   "metadata": {},
   "outputs": [
    {
     "data": {
      "text/plain": [
       "torch.Size([3, 1, 40, 41])"
      ]
     },
     "execution_count": 265,
     "metadata": {},
     "output_type": "execute_result"
    }
   ],
   "source": [
    "a.size()"
   ]
  },
  {
   "cell_type": "code",
   "execution_count": 266,
   "metadata": {},
   "outputs": [],
   "source": [
    "conv2d = nn.Conv2d(in_size, out_size, kernel_size=(20, 5), stride=(8, 2))"
   ]
  },
  {
   "cell_type": "code",
   "execution_count": 267,
   "metadata": {},
   "outputs": [
    {
     "data": {
      "text/plain": [
       "torch.Size([3, 32, 3, 19])"
      ]
     },
     "execution_count": 267,
     "metadata": {},
     "output_type": "execute_result"
    }
   ],
   "source": [
    "conv2d(a).size()"
   ]
  },
  {
   "cell_type": "markdown",
   "metadata": {},
   "source": [
    "#### SEPARABLE"
   ]
  },
  {
   "cell_type": "code",
   "execution_count": 268,
   "metadata": {},
   "outputs": [
    {
     "data": {
      "text/plain": [
       "torch.Size([3, 1, 40, 41])"
      ]
     },
     "execution_count": 268,
     "metadata": {},
     "output_type": "execute_result"
    }
   ],
   "source": [
    "a.size()"
   ]
  },
  {
   "cell_type": "code",
   "execution_count": 269,
   "metadata": {},
   "outputs": [],
   "source": [
    "depth_w = nn.Conv2d(in_size, in_size, kernel_size, \n",
    "                             stride=stride, groups=in_size)\n",
    "point_w = nn.Conv2d(in_size, out_size, kernel_size=1)"
   ]
  },
  {
   "cell_type": "code",
   "execution_count": 270,
   "metadata": {},
   "outputs": [
    {
     "name": "stdout",
     "output_type": "stream",
     "text": [
      "torch.Size([3, 1, 3, 19])\n",
      "torch.Size([3, 32, 3, 19])\n"
     ]
    }
   ],
   "source": [
    "depth_res = depth_w(a)\n",
    "print(depth_res.size())\n",
    "\n",
    "res = point_w(depth_res)\n",
    "print(res.size())"
   ]
  },
  {
   "cell_type": "code",
   "execution_count": 271,
   "metadata": {},
   "outputs": [
    {
     "data": {
      "text/plain": [
       "3232"
      ]
     },
     "execution_count": 271,
     "metadata": {},
     "output_type": "execute_result"
    }
   ],
   "source": [
    "count_parameters(conv2d)"
   ]
  },
  {
   "cell_type": "code",
   "execution_count": 272,
   "metadata": {
    "scrolled": true
   },
   "outputs": [
    {
     "data": {
      "text/plain": [
       "165"
      ]
     },
     "execution_count": 272,
     "metadata": {},
     "output_type": "execute_result"
    }
   ],
   "source": [
    "count_parameters(depth_w) + count_parameters(point_w)"
   ]
  },
  {
   "cell_type": "markdown",
   "metadata": {},
   "source": [
    "### ОНО???"
   ]
  },
  {
   "cell_type": "code",
   "execution_count": 496,
   "metadata": {},
   "outputs": [
    {
     "data": {
      "text/plain": [
       "torch.Size([3, 40, 41])"
      ]
     },
     "execution_count": 496,
     "metadata": {},
     "output_type": "execute_result"
    }
   ],
   "source": [
    "a = torch.rand((3, 40, 41))   # картинка 40 x 41\n",
    "a.size()"
   ]
  },
  {
   "cell_type": "markdown",
   "metadata": {},
   "source": [
    "Бегаем вправо-влево по картинке 40x41 окошком 5x1, таких окошек 40, для каждой строчки."
   ]
  },
  {
   "cell_type": "code",
   "execution_count": 497,
   "metadata": {},
   "outputs": [],
   "source": [
    "layer = nn.Conv1d(40, 40, kernel_size=5, groups=40, stride=2)"
   ]
  },
  {
   "cell_type": "code",
   "execution_count": 498,
   "metadata": {},
   "outputs": [
    {
     "name": "stdout",
     "output_type": "stream",
     "text": [
      "torch.Size([3, 40, 19])\n"
     ]
    }
   ],
   "source": [
    "res1 = layer(a)\n",
    "print(res1.size())"
   ]
  },
  {
   "cell_type": "markdown",
   "metadata": {},
   "source": [
    "Бегаем вправо-влево по картинке 40x? окошком 20x1, а 20 берется из 40/groups=20. При этом глубину выставляем 32, это все предыдущее предложение просто проделывается 32 раза."
   ]
  },
  {
   "cell_type": "code",
   "execution_count": 370,
   "metadata": {},
   "outputs": [],
   "source": [
    "layer2 = nn.Conv1d(40, 32, kernel_size=1, groups=2, stride=8)"
   ]
  },
  {
   "cell_type": "code",
   "execution_count": 371,
   "metadata": {},
   "outputs": [
    {
     "name": "stdout",
     "output_type": "stream",
     "text": [
      "torch.Size([3, 32, 3])\n"
     ]
    }
   ],
   "source": [
    "res2 = layer2(res1)\n",
    "print(res2.shape)"
   ]
  },
  {
   "cell_type": "markdown",
   "metadata": {},
   "source": [
    "### КОНЕЦ ИГР"
   ]
  },
  {
   "cell_type": "code",
   "execution_count": null,
   "metadata": {},
   "outputs": [],
   "source": []
  }
 ],
 "metadata": {
  "kernelspec": {
   "display_name": "Python 3",
   "language": "python",
   "name": "python3"
  },
  "language_info": {
   "codemirror_mode": {
    "name": "ipython",
    "version": 3
   },
   "file_extension": ".py",
   "mimetype": "text/x-python",
   "name": "python",
   "nbconvert_exporter": "python",
   "pygments_lexer": "ipython3",
   "version": "3.6.9"
  }
 },
 "nbformat": 4,
 "nbformat_minor": 4
}
